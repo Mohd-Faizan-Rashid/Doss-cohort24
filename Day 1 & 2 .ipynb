{
 "cells": [
  {
   "cell_type": "code",
   "execution_count": 4,
   "id": "499490c9-2b92-4fe0-9ba9-ea15acc2aa9d",
   "metadata": {},
   "outputs": [],
   "source": [
    "x= 2 \n",
    "y=4"
   ]
  },
  {
   "cell_type": "code",
   "execution_count": 6,
   "id": "a61598db-51c2-4d65-b880-eadabf6c2401",
   "metadata": {},
   "outputs": [
    {
     "data": {
      "text/plain": [
       "2"
      ]
     },
     "execution_count": 6,
     "metadata": {},
     "output_type": "execute_result"
    }
   ],
   "source": [
    "x"
   ]
  },
  {
   "cell_type": "code",
   "execution_count": 8,
   "id": "78c32857-3443-49cb-bcb3-96cc7cecb0c3",
   "metadata": {},
   "outputs": [
    {
     "data": {
      "text/plain": [
       "4"
      ]
     },
     "execution_count": 8,
     "metadata": {},
     "output_type": "execute_result"
    }
   ],
   "source": [
    "y"
   ]
  },
  {
   "cell_type": "code",
   "execution_count": 6,
   "id": "ad8e5e40-e0ac-4216-a737-923c7c7df4b7",
   "metadata": {},
   "outputs": [],
   "source": [
    "a = \"python str data type\""
   ]
  },
  {
   "cell_type": "code",
   "execution_count": 8,
   "id": "108a2978-3a7b-48a2-a5bb-53585efe7b2c",
   "metadata": {},
   "outputs": [],
   "source": [
    "b = 3.3"
   ]
  },
  {
   "cell_type": "code",
   "execution_count": 22,
   "id": "8a7c44f8-d1f0-40e4-b6f0-f94bcce2db43",
   "metadata": {},
   "outputs": [],
   "source": [
    "c = a,b"
   ]
  },
  {
   "cell_type": "code",
   "execution_count": 24,
   "id": "526fdbdd-aef5-4ec4-be31-26062871dded",
   "metadata": {},
   "outputs": [
    {
     "data": {
      "text/plain": [
       "('python str data type', 3.3)"
      ]
     },
     "execution_count": 24,
     "metadata": {},
     "output_type": "execute_result"
    }
   ],
   "source": [
    "c"
   ]
  },
  {
   "cell_type": "code",
   "execution_count": 10,
   "id": "38ecb294-144b-4153-9091-f87f760f07fb",
   "metadata": {},
   "outputs": [
    {
     "data": {
      "text/plain": [
       "140710259993048"
      ]
     },
     "execution_count": 10,
     "metadata": {},
     "output_type": "execute_result"
    }
   ],
   "source": [
    "id(x)\n",
    "#every variable store their data or value in ram such as in container and each cont has id"
   ]
  },
  {
   "cell_type": "code",
   "execution_count": 22,
   "id": "8806c59c-9094-46e5-a3d5-78147c9d6582",
   "metadata": {},
   "outputs": [
    {
     "name": "stdout",
     "output_type": "stream",
     "text": [
      "4\n"
     ]
    }
   ],
   "source": [
    "print(y)"
   ]
  },
  {
   "cell_type": "code",
   "execution_count": 18,
   "id": "4cf4cff6-6799-4f22-a7a3-dd5a051ce31e",
   "metadata": {},
   "outputs": [],
   "source": [
    "y = \"faizan\""
   ]
  },
  {
   "cell_type": "code",
   "execution_count": 20,
   "id": "ab65084f-5afd-4e8c-bc55-c50269648cf6",
   "metadata": {},
   "outputs": [
    {
     "data": {
      "text/plain": [
       "'faizan'"
      ]
     },
     "execution_count": 20,
     "metadata": {},
     "output_type": "execute_result"
    }
   ],
   "source": [
    "y"
   ]
  },
  {
   "cell_type": "code",
   "execution_count": 44,
   "id": "56f87879-580b-40e4-8014-15dfdec18233",
   "metadata": {},
   "outputs": [],
   "source": [
    "x=\"mohd\""
   ]
  },
  {
   "cell_type": "code",
   "execution_count": 24,
   "id": "f378398c-d91e-4a92-8177-acdf0bb90c06",
   "metadata": {},
   "outputs": [
    {
     "data": {
      "text/plain": [
       "'mohd'"
      ]
     },
     "execution_count": 24,
     "metadata": {},
     "output_type": "execute_result"
    }
   ],
   "source": [
    "x"
   ]
  },
  {
   "cell_type": "code",
   "execution_count": 26,
   "id": "f8eeca16-60fb-4a32-85f0-a3bb1020e700",
   "metadata": {},
   "outputs": [
    {
     "data": {
      "text/plain": [
       "'mohdfaizan'"
      ]
     },
     "execution_count": 26,
     "metadata": {},
     "output_type": "execute_result"
    }
   ],
   "source": [
    "x+y"
   ]
  },
  {
   "cell_type": "code",
   "execution_count": 28,
   "id": "2b63ed81-6380-40f1-8acc-b0b8c2cff2dc",
   "metadata": {},
   "outputs": [],
   "source": [
    "#concatenntion , string operation\n",
    "z=x+y\n"
   ]
  },
  {
   "cell_type": "code",
   "execution_count": 30,
   "id": "0784a78e-9dbe-496c-bedc-16dd9ad1d2f3",
   "metadata": {},
   "outputs": [
    {
     "data": {
      "text/plain": [
       "'mohdfaizan'"
      ]
     },
     "execution_count": 30,
     "metadata": {},
     "output_type": "execute_result"
    }
   ],
   "source": [
    "z"
   ]
  },
  {
   "cell_type": "code",
   "execution_count": 32,
   "id": "5ee9ebd9-7c4e-4d9f-9eb5-7118cf0c748e",
   "metadata": {},
   "outputs": [
    {
     "data": {
      "text/plain": [
       "str"
      ]
     },
     "execution_count": 32,
     "metadata": {},
     "output_type": "execute_result"
    }
   ],
   "source": [
    "type(z)"
   ]
  },
  {
   "cell_type": "code",
   "execution_count": 34,
   "id": "f0bdf01c-87fa-47cd-853f-9453c4c994d7",
   "metadata": {},
   "outputs": [],
   "source": [
    "a=123"
   ]
  },
  {
   "cell_type": "code",
   "execution_count": 36,
   "id": "8d32109e-54a7-47be-b47e-b79752db0327",
   "metadata": {},
   "outputs": [
    {
     "ename": "TypeError",
     "evalue": "can only concatenate str (not \"int\") to str",
     "output_type": "error",
     "traceback": [
      "\u001b[1;31m---------------------------------------------------------------------------\u001b[0m",
      "\u001b[1;31mTypeError\u001b[0m                                 Traceback (most recent call last)",
      "Cell \u001b[1;32mIn[36], line 1\u001b[0m\n\u001b[1;32m----> 1\u001b[0m x\u001b[38;5;241m+\u001b[39ma\n",
      "\u001b[1;31mTypeError\u001b[0m: can only concatenate str (not \"int\") to str"
     ]
    }
   ],
   "source": [
    "x+a"
   ]
  },
  {
   "cell_type": "code",
   "execution_count": 38,
   "id": "82b54bba-99a7-48ab-bb9a-b14cc9e7f94a",
   "metadata": {},
   "outputs": [],
   "source": [
    "a=\"123\""
   ]
  },
  {
   "cell_type": "code",
   "execution_count": 46,
   "id": "3dc6f34a-6eaa-4f20-81b5-2d9c4be3dee1",
   "metadata": {},
   "outputs": [
    {
     "data": {
      "text/plain": [
       "'mohd123'"
      ]
     },
     "execution_count": 46,
     "metadata": {},
     "output_type": "execute_result"
    }
   ],
   "source": [
    "x+a"
   ]
  },
  {
   "cell_type": "code",
   "execution_count": 48,
   "id": "bc558d71-559f-4b4e-bf7a-b5cefa57014c",
   "metadata": {},
   "outputs": [],
   "source": [
    "result=x+a"
   ]
  },
  {
   "cell_type": "code",
   "execution_count": 50,
   "id": "077a8630-4e87-4d87-b96a-811589d22c59",
   "metadata": {},
   "outputs": [
    {
     "data": {
      "text/plain": [
       "str"
      ]
     },
     "execution_count": 50,
     "metadata": {},
     "output_type": "execute_result"
    }
   ],
   "source": [
    "type(result)"
   ]
  },
  {
   "cell_type": "code",
   "execution_count": 20,
   "id": "f5183fce-9907-4262-895d-f91b74f739a4",
   "metadata": {},
   "outputs": [],
   "source": [
    "#CRUD( CREATE READ UPDATE DELETE ) ON LIST"
   ]
  },
  {
   "cell_type": "code",
   "execution_count": 32,
   "id": "9539b4ac-4116-4657-ae03-4c84ff158e53",
   "metadata": {},
   "outputs": [],
   "source": [
    "myfriends=[\"mr.a\",\"mr.b\",\"mr.c\",\"mr.d\"]"
   ]
  },
  {
   "cell_type": "code",
   "execution_count": 34,
   "id": "62316dd6-5e42-4d37-9d79-876f959567e4",
   "metadata": {},
   "outputs": [
    {
     "name": "stdout",
     "output_type": "stream",
     "text": [
      "['mr.a', 'mr.b', 'mr.c', 'mr.d']\n"
     ]
    }
   ],
   "source": [
    "print(myfriends)"
   ]
  },
  {
   "cell_type": "code",
   "execution_count": 36,
   "id": "1791b764-f744-4002-b499-11594d347465",
   "metadata": {},
   "outputs": [],
   "source": [
    "myfriends.remove(\"mr.d\")"
   ]
  },
  {
   "cell_type": "code",
   "execution_count": 38,
   "id": "bb19b703-9d1b-4fe8-bf3d-3bedafff310c",
   "metadata": {},
   "outputs": [
    {
     "name": "stdout",
     "output_type": "stream",
     "text": [
      "['mr.a', 'mr.b', 'mr.c']\n"
     ]
    }
   ],
   "source": [
    "print(myfriends)"
   ]
  },
  {
   "cell_type": "code",
   "execution_count": 40,
   "id": "c1a85a9f-8054-4cc7-91fc-afdd8a23486c",
   "metadata": {},
   "outputs": [],
   "source": [
    "list1=[123,\"123\"]"
   ]
  },
  {
   "cell_type": "code",
   "execution_count": 42,
   "id": "843fab88-38dd-47cb-bf5f-52a7de529bf3",
   "metadata": {},
   "outputs": [
    {
     "data": {
      "text/plain": [
       "list"
      ]
     },
     "execution_count": 42,
     "metadata": {},
     "output_type": "execute_result"
    }
   ],
   "source": [
    "type(list1)"
   ]
  },
  {
   "cell_type": "code",
   "execution_count": 44,
   "id": "7a549102-c281-487a-8927-3109e2d03ca6",
   "metadata": {},
   "outputs": [
    {
     "data": {
      "text/plain": [
       "2"
      ]
     },
     "execution_count": 44,
     "metadata": {},
     "output_type": "execute_result"
    }
   ],
   "source": [
    "len(list1)"
   ]
  },
  {
   "cell_type": "code",
   "execution_count": 46,
   "id": "ddba3a45-85a6-4a04-a66c-0d7e475ff1bd",
   "metadata": {},
   "outputs": [],
   "source": [
    "lest=[\"mr.a\",\"mr.a\",\"mr.a\",\"mr.a\",\"mr.a\",\"mr.a\",\"mr.a\",\"mr.a\",\"mr.a\",\"mr.a\",\"mr.a\",\"mr.a\",\"mr.a\",\"mr.a\",\"mr.a\",\"mr.a\",\"mr.a\",\"mr.a\",\"mr.a\",\"mr.a\"]"
   ]
  },
  {
   "cell_type": "code",
   "execution_count": 48,
   "id": "860caf31-5c76-4106-803f-ff1c3318b15b",
   "metadata": {},
   "outputs": [
    {
     "data": {
      "text/plain": [
       "20"
      ]
     },
     "execution_count": 48,
     "metadata": {},
     "output_type": "execute_result"
    }
   ],
   "source": [
    "len(lest)"
   ]
  },
  {
   "cell_type": "code",
   "execution_count": 50,
   "id": "6e3b491e-983e-442b-a993-444cfc72b4c3",
   "metadata": {},
   "outputs": [
    {
     "data": {
      "text/plain": [
       "'123'"
      ]
     },
     "execution_count": 50,
     "metadata": {},
     "output_type": "execute_result"
    }
   ],
   "source": [
    "list1[1]"
   ]
  },
  {
   "cell_type": "code",
   "execution_count": 52,
   "id": "d4078b76-9f28-458c-8f58-0baaef4813a4",
   "metadata": {},
   "outputs": [
    {
     "data": {
      "text/plain": [
       "123"
      ]
     },
     "execution_count": 52,
     "metadata": {},
     "output_type": "execute_result"
    }
   ],
   "source": [
    "list1[0]"
   ]
  },
  {
   "cell_type": "code",
   "execution_count": 54,
   "id": "84a39eba-6ee7-47a5-bcde-bfe1a7f6bd79",
   "metadata": {},
   "outputs": [],
   "source": [
    "list1.append(11)"
   ]
  },
  {
   "cell_type": "code",
   "execution_count": 56,
   "id": "76d89706-30b1-4d73-b18a-7ffae341b9be",
   "metadata": {},
   "outputs": [
    {
     "data": {
      "text/plain": [
       "[123, '123', 11]"
      ]
     },
     "execution_count": 56,
     "metadata": {},
     "output_type": "execute_result"
    }
   ],
   "source": [
    "list1"
   ]
  },
  {
   "cell_type": "code",
   "execution_count": 84,
   "id": "c0b83645-8dc5-4971-990f-fd0f702204f3",
   "metadata": {},
   "outputs": [],
   "source": [
    "#nested list\n",
    "xyz =[\n",
    "    [1,2,3,4,5,6],[\"1\",\"2\",\"3\",\"4\"],[2.2,3.3,1.1,4.4]\n",
    "]"
   ]
  },
  {
   "cell_type": "code",
   "execution_count": 86,
   "id": "9b53be95-8501-4e11-952a-3df769f6bd26",
   "metadata": {},
   "outputs": [
    {
     "data": {
      "text/plain": [
       "[[1, 2, 3, 4, 5, 6], ['1', '2', '3', '4'], [2.2, 3.3, 1.1, 4.4]]"
      ]
     },
     "execution_count": 86,
     "metadata": {},
     "output_type": "execute_result"
    }
   ],
   "source": [
    "xyz"
   ]
  },
  {
   "cell_type": "code",
   "execution_count": 94,
   "id": "94a390b5-eb56-4aa2-a399-c9166f898345",
   "metadata": {},
   "outputs": [],
   "source": [
    "myclassrecords=[\n",
    "    [\"mr.a\", 123456, \"abcdrf p/o xyz\"],\n",
    "    [\"mr.b\", 43545, \"cdd vill. dsusi\"],\n",
    "    [\"mr.c\", 1234156, \"abcdrsf p/o xyz\"],\n",
    "    [\"mr.d\", 435435, \"cdd vvill. dsus1\"],\n",
    "    [\"mr.e\", 124456, \"abcdrbf p/o xyz\"],\n",
    "    [\"mr. f\", 483545, \"zzodd vill. dsusi\"]]"
   ]
  },
  {
   "cell_type": "code",
   "execution_count": 100,
   "id": "e3044d0d-7951-422f-be53-de5088b3653d",
   "metadata": {},
   "outputs": [
    {
     "data": {
      "text/plain": [
       "123456"
      ]
     },
     "execution_count": 100,
     "metadata": {},
     "output_type": "execute_result"
    }
   ],
   "source": [
    "myclassrecords[0][1]"
   ]
  },
  {
   "cell_type": "code",
   "execution_count": 102,
   "id": "b784f2ed-a11a-448e-83b0-cbfe7304d4f8",
   "metadata": {},
   "outputs": [
    {
     "data": {
      "text/plain": [
       "'cdd vvill. dsus1'"
      ]
     },
     "execution_count": 102,
     "metadata": {},
     "output_type": "execute_result"
    }
   ],
   "source": [
    "myclassrecords [3] [2]"
   ]
  },
  {
   "cell_type": "code",
   "execution_count": 104,
   "id": "07a5936c-41ea-4a42-9b88-a46f2bf2ecd1",
   "metadata": {},
   "outputs": [],
   "source": [
    " mr_d =myclassrecords [3]"
   ]
  },
  {
   "cell_type": "code",
   "execution_count": 106,
   "id": "40e277b1-aa17-413e-b357-a29b2bbfef5b",
   "metadata": {},
   "outputs": [
    {
     "data": {
      "text/plain": [
       "['mr.d', 435435, 'cdd vvill. dsus1']"
      ]
     },
     "execution_count": 106,
     "metadata": {},
     "output_type": "execute_result"
    }
   ],
   "source": [
    "mr_d"
   ]
  },
  {
   "cell_type": "code",
   "execution_count": 108,
   "id": "80580889-670b-4db7-b670-1775c6bcf927",
   "metadata": {},
   "outputs": [
    {
     "data": {
      "text/plain": [
       "'cdd vvill. dsus1'"
      ]
     },
     "execution_count": 108,
     "metadata": {},
     "output_type": "execute_result"
    }
   ],
   "source": [
    "mr_d[2]"
   ]
  },
  {
   "cell_type": "code",
   "execution_count": 110,
   "id": "0d1244fa-388f-4c51-aa49-0b2cd733f7d5",
   "metadata": {},
   "outputs": [
    {
     "data": {
      "text/plain": [
       "[['mr.c', 1234156, 'abcdrsf p/o xyz'],\n",
       " ['mr.d', 435435, 'cdd vvill. dsus1'],\n",
       " ['mr.e', 124456, 'abcdrbf p/o xyz']]"
      ]
     },
     "execution_count": 110,
     "metadata": {},
     "output_type": "execute_result"
    }
   ],
   "source": [
    " #list slicing [start:stop:step]\n",
    "myclassrecords [2:5]"
   ]
  },
  {
   "cell_type": "code",
   "execution_count": 112,
   "id": "65d3b02d-3f43-41c0-916a-d3a15fb72f98",
   "metadata": {},
   "outputs": [
    {
     "data": {
      "text/plain": [
       "[['mr.b', 43545, 'cdd vill. dsusi'], ['mr.c', 1234156, 'abcdrsf p/o xyz']]"
      ]
     },
     "execution_count": 112,
     "metadata": {},
     "output_type": "execute_result"
    }
   ],
   "source": [
    " #list slicing [start:stop:step]\n",
    "myclassrecords [1:3]"
   ]
  },
  {
   "cell_type": "code",
   "execution_count": 114,
   "id": "9b9297cb-9956-428d-bc0d-3c1149c60cb2",
   "metadata": {},
   "outputs": [
    {
     "data": {
      "text/plain": [
       "[['mr.a', 123456, 'abcdrf p/o xyz'],\n",
       " ['mr.b', 43545, 'cdd vill. dsusi'],\n",
       " ['mr.c', 1234156, 'abcdrsf p/o xyz']]"
      ]
     },
     "execution_count": 114,
     "metadata": {},
     "output_type": "execute_result"
    }
   ],
   "source": [
    " #list slicing [start:stop:step]\n",
    "myclassrecords [:3]"
   ]
  },
  {
   "cell_type": "code",
   "execution_count": 116,
   "id": "98b5cb16-94eb-431a-80fd-af71ba49119f",
   "metadata": {},
   "outputs": [
    {
     "name": "stdout",
     "output_type": "stream",
     "text": [
      "Collecting pywhatkit\n",
      "  Downloading pywhatkit-5.4-py3-none-any.whl.metadata (5.5 kB)\n",
      "Requirement already satisfied: Pillow in c:\\users\\dell\\anaconda3\\lib\\site-packages (from pywhatkit) (10.4.0)\n",
      "Collecting pyautogui (from pywhatkit)\n",
      "  Using cached PyAutoGUI-0.9.54-py3-none-any.whl\n",
      "Requirement already satisfied: requests in c:\\users\\dell\\anaconda3\\lib\\site-packages (from pywhatkit) (2.32.3)\n",
      "Collecting wikipedia (from pywhatkit)\n",
      "  Using cached wikipedia-1.4.0-py3-none-any.whl\n",
      "Requirement already satisfied: Flask in c:\\users\\dell\\anaconda3\\lib\\site-packages (from pywhatkit) (3.0.3)\n",
      "Requirement already satisfied: Werkzeug>=3.0.0 in c:\\users\\dell\\anaconda3\\lib\\site-packages (from Flask->pywhatkit) (3.0.3)\n",
      "Requirement already satisfied: Jinja2>=3.1.2 in c:\\users\\dell\\anaconda3\\lib\\site-packages (from Flask->pywhatkit) (3.1.4)\n",
      "Requirement already satisfied: itsdangerous>=2.1.2 in c:\\users\\dell\\anaconda3\\lib\\site-packages (from Flask->pywhatkit) (2.2.0)\n",
      "Requirement already satisfied: click>=8.1.3 in c:\\users\\dell\\anaconda3\\lib\\site-packages (from Flask->pywhatkit) (8.1.7)\n",
      "Requirement already satisfied: blinker>=1.6.2 in c:\\users\\dell\\anaconda3\\lib\\site-packages (from Flask->pywhatkit) (1.6.2)\n",
      "Collecting pymsgbox (from pyautogui->pywhatkit)\n",
      "  Using cached PyMsgBox-1.0.9-py3-none-any.whl\n",
      "Collecting pytweening>=1.0.4 (from pyautogui->pywhatkit)\n",
      "  Downloading pytweening-1.2.0.tar.gz (171 kB)\n",
      "  Preparing metadata (setup.py): started\n",
      "  Preparing metadata (setup.py): finished with status 'done'\n",
      "Collecting pyscreeze>=0.1.21 (from pyautogui->pywhatkit)\n",
      "  Downloading pyscreeze-1.0.1.tar.gz (27 kB)\n",
      "  Installing build dependencies: started\n",
      "  Installing build dependencies: finished with status 'done'\n",
      "  Getting requirements to build wheel: started\n",
      "  Getting requirements to build wheel: finished with status 'done'\n",
      "  Preparing metadata (pyproject.toml): started\n",
      "  Preparing metadata (pyproject.toml): finished with status 'done'\n",
      "Collecting pygetwindow>=0.0.5 (from pyautogui->pywhatkit)\n",
      "  Using cached PyGetWindow-0.0.9-py3-none-any.whl\n",
      "Collecting mouseinfo (from pyautogui->pywhatkit)\n",
      "  Using cached MouseInfo-0.1.3-py3-none-any.whl\n",
      "Requirement already satisfied: charset-normalizer<4,>=2 in c:\\users\\dell\\anaconda3\\lib\\site-packages (from requests->pywhatkit) (3.3.2)\n",
      "Requirement already satisfied: idna<4,>=2.5 in c:\\users\\dell\\anaconda3\\lib\\site-packages (from requests->pywhatkit) (3.7)\n",
      "Requirement already satisfied: urllib3<3,>=1.21.1 in c:\\users\\dell\\anaconda3\\lib\\site-packages (from requests->pywhatkit) (2.2.3)\n",
      "Requirement already satisfied: certifi>=2017.4.17 in c:\\users\\dell\\anaconda3\\lib\\site-packages (from requests->pywhatkit) (2024.8.30)\n",
      "Requirement already satisfied: beautifulsoup4 in c:\\users\\dell\\anaconda3\\lib\\site-packages (from wikipedia->pywhatkit) (4.12.3)\n",
      "Requirement already satisfied: colorama in c:\\users\\dell\\anaconda3\\lib\\site-packages (from click>=8.1.3->Flask->pywhatkit) (0.4.6)\n",
      "Requirement already satisfied: MarkupSafe>=2.0 in c:\\users\\dell\\anaconda3\\lib\\site-packages (from Jinja2>=3.1.2->Flask->pywhatkit) (2.1.3)\n",
      "Collecting pyrect (from pygetwindow>=0.0.5->pyautogui->pywhatkit)\n",
      "  Using cached PyRect-0.2.0-py2.py3-none-any.whl\n",
      "Requirement already satisfied: soupsieve>1.2 in c:\\users\\dell\\anaconda3\\lib\\site-packages (from beautifulsoup4->wikipedia->pywhatkit) (2.5)\n",
      "Collecting pyperclip (from mouseinfo->pyautogui->pywhatkit)\n",
      "  Downloading pyperclip-1.9.0.tar.gz (20 kB)\n",
      "  Preparing metadata (setup.py): started\n",
      "  Preparing metadata (setup.py): finished with status 'done'\n",
      "Downloading pywhatkit-5.4-py3-none-any.whl (15 kB)\n",
      "Building wheels for collected packages: pyscreeze, pytweening, pyperclip\n",
      "  Building wheel for pyscreeze (pyproject.toml): started\n",
      "  Building wheel for pyscreeze (pyproject.toml): finished with status 'done'\n",
      "  Created wheel for pyscreeze: filename=PyScreeze-1.0.1-py3-none-any.whl size=14381 sha256=2cd3256458b4d02f3b8184f1c2c77551e36e12d7f29322445bda5e9f18aeec29\n",
      "  Stored in directory: c:\\users\\dell\\appdata\\local\\pip\\cache\\wheels\\cd\\3a\\c2\\7f2839239a069aa3c9564f6777cbb29d733720ef673f104f0d\n",
      "  Building wheel for pytweening (setup.py): started\n",
      "  Building wheel for pytweening (setup.py): finished with status 'done'\n",
      "  Created wheel for pytweening: filename=pytweening-1.2.0-py3-none-any.whl size=8029 sha256=405c7f658aa7cc91db8536785292b61f569cc11fc46c78689d9967b095928923\n",
      "  Stored in directory: c:\\users\\dell\\appdata\\local\\pip\\cache\\wheels\\23\\d5\\13\\4e9bdadbfe3c78e47c675e7410c0eed2fbb63c5ea6cf1b40e7\n",
      "  Building wheel for pyperclip (setup.py): started\n",
      "  Building wheel for pyperclip (setup.py): finished with status 'done'\n",
      "  Created wheel for pyperclip: filename=pyperclip-1.9.0-py3-none-any.whl size=11019 sha256=9c0bed6eab0c5c3274597407532dfa0106ed5840850fc99bd5aaa88ade5b5333\n",
      "  Stored in directory: c:\\users\\dell\\appdata\\local\\pip\\cache\\wheels\\e0\\e8\\fc\\8ab8aa326e33bc066ccd5f3ca9646eab4299881af933f94f09\n",
      "Successfully built pyscreeze pytweening pyperclip\n",
      "Installing collected packages: pytweening, pyscreeze, pyrect, pyperclip, pymsgbox, pygetwindow, mouseinfo, wikipedia, pyautogui, pywhatkit\n",
      "Successfully installed mouseinfo-0.1.3 pyautogui-0.9.54 pygetwindow-0.0.9 pymsgbox-1.0.9 pyperclip-1.9.0 pyrect-0.2.0 pyscreeze-1.0.1 pytweening-1.2.0 pywhatkit-5.4 wikipedia-1.4.0\n",
      "Note: you may need to restart the kernel to use updated packages.\n"
     ]
    }
   ],
   "source": [
    "pip install pywhatkit"
   ]
  },
  {
   "cell_type": "code",
   "execution_count": null,
   "id": "bddd8dac-6c43-4efb-a3a3-ca37d997a371",
   "metadata": {},
   "outputs": [],
   "source": [
    "pip install pywhatkit"
   ]
  },
  {
   "cell_type": "code",
   "execution_count": 118,
   "id": "9308ee1e-faef-46d8-98c4-5f8fa96787d4",
   "metadata": {},
   "outputs": [],
   "source": [
    "import pywhatkit as pyw"
   ]
  },
  {
   "cell_type": "code",
   "execution_count": 120,
   "id": "cc43030f-cac5-4001-bcdd-80e0570bc736",
   "metadata": {},
   "outputs": [],
   "source": [
    "pyw.search(\"death note\")"
   ]
  },
  {
   "cell_type": "code",
   "execution_count": null,
   "id": "fd00ec95-f0b2-4e07-81ae-cf18d559b8ed",
   "metadata": {},
   "outputs": [],
   "source": [
    "#pypy website hold information about labriry"
   ]
  }
 ],
 "metadata": {
  "kernelspec": {
   "display_name": "Python 3 (ipykernel)",
   "language": "python",
   "name": "python3"
  },
  "language_info": {
   "codemirror_mode": {
    "name": "ipython",
    "version": 3
   },
   "file_extension": ".py",
   "mimetype": "text/x-python",
   "name": "python",
   "nbconvert_exporter": "python",
   "pygments_lexer": "ipython3",
   "version": "3.12.7"
  }
 },
 "nbformat": 4,
 "nbformat_minor": 5
}
