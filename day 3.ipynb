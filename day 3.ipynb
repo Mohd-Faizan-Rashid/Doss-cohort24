{
 "cells": [
  {
   "cell_type": "code",
   "execution_count": 2,
   "id": "7e700b72-606c-48d6-b1ea-60a8bd1f5b06",
   "metadata": {},
   "outputs": [],
   "source": [
    "list = [[\"abc\",1,\"dsa\"],[\"abc\",2,\"dsa\"],[\"abc\",3,\"dsa\"],[\"abc\",4,\"dsa\"],[\"abc\",5,\"dsa\"],[\"abc\",6,\"dsa\"]]"
   ]
  },
  {
   "cell_type": "code",
   "execution_count": 4,
   "id": "66c02e6e-f22f-4d1d-bc36-c43d49bd3d93",
   "metadata": {},
   "outputs": [],
   "source": [
    "import numpy\n"
   ]
  },
  {
   "cell_type": "code",
   "execution_count": 8,
   "id": "7067889f-237a-4325-9b07-5e94467b18e7",
   "metadata": {},
   "outputs": [],
   "source": [
    "myarray = numpy.array(list)"
   ]
  },
  {
   "cell_type": "code",
   "execution_count": 10,
   "id": "a7ba2311-ddea-46b0-94d0-18787ed72752",
   "metadata": {},
   "outputs": [
    {
     "name": "stdout",
     "output_type": "stream",
     "text": [
      "[['abc' '1' 'dsa']\n",
      " ['abc' '2' 'dsa']\n",
      " ['abc' '3' 'dsa']\n",
      " ['abc' '4' 'dsa']\n",
      " ['abc' '5' 'dsa']\n",
      " ['abc' '6' 'dsa']]\n"
     ]
    }
   ],
   "source": [
    "print(myarray)"
   ]
  },
  {
   "cell_type": "code",
   "execution_count": 12,
   "id": "38956e25-5346-4113-956f-2f1d9a06adff",
   "metadata": {},
   "outputs": [
    {
     "data": {
      "text/plain": [
       "numpy.ndarray"
      ]
     },
     "execution_count": 12,
     "metadata": {},
     "output_type": "execute_result"
    }
   ],
   "source": [
    "type(myarray)"
   ]
  },
  {
   "cell_type": "code",
   "execution_count": 16,
   "id": "2abf4c50-3ad7-4d6f-9a4f-402f14bdcb32",
   "metadata": {},
   "outputs": [
    {
     "data": {
      "text/plain": [
       "array(['abc', '1', 'dsa'], dtype='<U11')"
      ]
     },
     "execution_count": 16,
     "metadata": {},
     "output_type": "execute_result"
    }
   ],
   "source": [
    "myarray[0]"
   ]
  },
  {
   "cell_type": "code",
   "execution_count": 20,
   "id": "09214c59-93bd-4dc4-a841-c15a8e3f707a",
   "metadata": {},
   "outputs": [
    {
     "data": {
      "text/plain": [
       "array([['abc', '4', 'dsa'],\n",
       "       ['abc', '5', 'dsa'],\n",
       "       ['abc', '6', 'dsa']], dtype='<U11')"
      ]
     },
     "execution_count": 20,
     "metadata": {},
     "output_type": "execute_result"
    }
   ],
   "source": [
    "myarray[3:6]"
   ]
  },
  {
   "cell_type": "code",
   "execution_count": 22,
   "id": "5cf5039a-cdbd-40a7-9c93-f31b56dcca78",
   "metadata": {},
   "outputs": [
    {
     "data": {
      "text/plain": [
       "array([['abc', '3', 'dsa'],\n",
       "       ['abc', '4', 'dsa'],\n",
       "       ['abc', '5', 'dsa']], dtype='<U11')"
      ]
     },
     "execution_count": 22,
     "metadata": {},
     "output_type": "execute_result"
    }
   ],
   "source": [
    "myarray[2:5]"
   ]
  },
  {
   "cell_type": "code",
   "execution_count": 24,
   "id": "a97cc701-b275-4b59-9a51-cfa28e9d32e4",
   "metadata": {},
   "outputs": [
    {
     "data": {
      "text/plain": [
       "array([['abc', '1', 'dsa'],\n",
       "       ['abc', '2', 'dsa'],\n",
       "       ['abc', '3', 'dsa']], dtype='<U11')"
      ]
     },
     "execution_count": 24,
     "metadata": {},
     "output_type": "execute_result"
    }
   ],
   "source": [
    "myarray[:3]"
   ]
  },
  {
   "cell_type": "code",
   "execution_count": 26,
   "id": "3fa4c291-26d9-415b-b02b-f56b94f4698b",
   "metadata": {},
   "outputs": [
    {
     "data": {
      "text/plain": [
       "array([['abc', '4', 'dsa'],\n",
       "       ['abc', '5', 'dsa'],\n",
       "       ['abc', '6', 'dsa']], dtype='<U11')"
      ]
     },
     "execution_count": 26,
     "metadata": {},
     "output_type": "execute_result"
    }
   ],
   "source": [
    "myarray[3:]"
   ]
  },
  {
   "cell_type": "code",
   "execution_count": 28,
   "id": "8587e6d0-9696-4ace-ba54-46760b65e791",
   "metadata": {},
   "outputs": [
    {
     "data": {
      "text/plain": [
       "array([['abc', '1', 'dsa'],\n",
       "       ['abc', '2', 'dsa'],\n",
       "       ['abc', '3', 'dsa'],\n",
       "       ['abc', '4', 'dsa'],\n",
       "       ['abc', '5', 'dsa'],\n",
       "       ['abc', '6', 'dsa']], dtype='<U11')"
      ]
     },
     "execution_count": 28,
     "metadata": {},
     "output_type": "execute_result"
    }
   ],
   "source": [
    "myarray[:]"
   ]
  },
  {
   "cell_type": "code",
   "execution_count": 30,
   "id": "142523d1-7417-42dc-be03-e52583c442d4",
   "metadata": {},
   "outputs": [
    {
     "data": {
      "text/plain": [
       "array([['1', 'dsa'],\n",
       "       ['2', 'dsa'],\n",
       "       ['3', 'dsa'],\n",
       "       ['4', 'dsa'],\n",
       "       ['5', 'dsa'],\n",
       "       ['6', 'dsa']], dtype='<U11')"
      ]
     },
     "execution_count": 30,
     "metadata": {},
     "output_type": "execute_result"
    }
   ],
   "source": [
    "myarray[:,1:3]"
   ]
  },
  {
   "cell_type": "code",
   "execution_count": 32,
   "id": "f95bd6d0-b4c2-4c55-a42b-f3f06f64ac53",
   "metadata": {},
   "outputs": [
    {
     "data": {
      "text/plain": [
       "array(['1', '2', '3', '4', '5', '6'], dtype='<U11')"
      ]
     },
     "execution_count": 32,
     "metadata": {},
     "output_type": "execute_result"
    }
   ],
   "source": [
    "myarray[:,1]"
   ]
  },
  {
   "cell_type": "code",
   "execution_count": 34,
   "id": "d046c932-5a7e-4f44-aef2-d79fe6bf3bb2",
   "metadata": {},
   "outputs": [],
   "source": [
    "intro=\"i am human\""
   ]
  },
  {
   "cell_type": "code",
   "execution_count": 36,
   "id": "0aeb9fa4-380c-454a-9d67-f1b9f54edf6d",
   "metadata": {},
   "outputs": [
    {
     "data": {
      "text/plain": [
       "'i'"
      ]
     },
     "execution_count": 36,
     "metadata": {},
     "output_type": "execute_result"
    }
   ],
   "source": [
    "intro[0]"
   ]
  },
  {
   "cell_type": "code",
   "execution_count": 38,
   "id": "77fdf13f-a312-4a0d-ad2e-8f0c4d2ea0ee",
   "metadata": {},
   "outputs": [
    {
     "data": {
      "text/plain": [
       "'m'"
      ]
     },
     "execution_count": 38,
     "metadata": {},
     "output_type": "execute_result"
    }
   ],
   "source": [
    "intro[3]"
   ]
  },
  {
   "cell_type": "code",
   "execution_count": 40,
   "id": "48c41c0a-b108-4923-8127-85bb4217fcc9",
   "metadata": {},
   "outputs": [
    {
     "data": {
      "text/plain": [
       "'a'"
      ]
     },
     "execution_count": 40,
     "metadata": {},
     "output_type": "execute_result"
    }
   ],
   "source": [
    "intro[8]"
   ]
  },
  {
   "cell_type": "code",
   "execution_count": 42,
   "id": "b1c033b3-ae8b-4f15-b761-c5e6b361b02e",
   "metadata": {},
   "outputs": [
    {
     "data": {
      "text/plain": [
       "' '"
      ]
     },
     "execution_count": 42,
     "metadata": {},
     "output_type": "execute_result"
    }
   ],
   "source": [
    "intro[1]"
   ]
  },
  {
   "cell_type": "code",
   "execution_count": 48,
   "id": "5dbbc9f1-0dc4-431e-9df5-0f0e567a16d9",
   "metadata": {},
   "outputs": [
    {
     "data": {
      "text/plain": [
       "'uman'"
      ]
     },
     "execution_count": 48,
     "metadata": {},
     "output_type": "execute_result"
    }
   ],
   "source": [
    "intro[6:]"
   ]
  },
  {
   "cell_type": "code",
   "execution_count": null,
   "id": "931c1f3f-f381-4d44-a81c-3d440bd37ec6",
   "metadata": {},
   "outputs": [],
   "source": []
  }
 ],
 "metadata": {
  "kernelspec": {
   "display_name": "Python 3 (ipykernel)",
   "language": "python",
   "name": "python3"
  },
  "language_info": {
   "codemirror_mode": {
    "name": "ipython",
    "version": 3
   },
   "file_extension": ".py",
   "mimetype": "text/x-python",
   "name": "python",
   "nbconvert_exporter": "python",
   "pygments_lexer": "ipython3",
   "version": "3.12.7"
  }
 },
 "nbformat": 4,
 "nbformat_minor": 5
}
